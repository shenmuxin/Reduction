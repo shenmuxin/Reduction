{
 "cells": [
  {
   "cell_type": "code",
   "execution_count": 1,
   "metadata": {},
   "outputs": [],
   "source": [
    "import matplotlib.pyplot as plt"
   ]
  },
  {
   "cell_type": "code",
   "execution_count": 3,
   "metadata": {},
   "outputs": [
    {
     "name": "stdout",
     "output_type": "stream",
     "text": [
      "\u001b[1;31mSignature:\u001b[0m \u001b[0mplt\u001b[0m\u001b[1;33m.\u001b[0m\u001b[0mtitle\u001b[0m\u001b[1;33m(\u001b[0m\u001b[0mlabel\u001b[0m\u001b[1;33m,\u001b[0m \u001b[0mfontdict\u001b[0m\u001b[1;33m=\u001b[0m\u001b[1;32mNone\u001b[0m\u001b[1;33m,\u001b[0m \u001b[0mloc\u001b[0m\u001b[1;33m=\u001b[0m\u001b[1;32mNone\u001b[0m\u001b[1;33m,\u001b[0m \u001b[0mpad\u001b[0m\u001b[1;33m=\u001b[0m\u001b[1;32mNone\u001b[0m\u001b[1;33m,\u001b[0m \u001b[1;33m*\u001b[0m\u001b[1;33m,\u001b[0m \u001b[0my\u001b[0m\u001b[1;33m=\u001b[0m\u001b[1;32mNone\u001b[0m\u001b[1;33m,\u001b[0m \u001b[1;33m**\u001b[0m\u001b[0mkwargs\u001b[0m\u001b[1;33m)\u001b[0m\u001b[1;33m\u001b[0m\u001b[1;33m\u001b[0m\u001b[0m\n",
      "\u001b[1;31mDocstring:\u001b[0m\n",
      "Set a title for the Axes.\n",
      "\n",
      "Set one of the three available Axes titles. The available titles\n",
      "are positioned above the Axes in the center, flush with the left\n",
      "edge, and flush with the right edge.\n",
      "\n",
      "Parameters\n",
      "----------\n",
      "label : str\n",
      "    Text to use for the title\n",
      "\n",
      "fontdict : dict\n",
      "    A dictionary controlling the appearance of the title text,\n",
      "    the default *fontdict* is::\n",
      "\n",
      "       {'fontsize': rcParams['axes.titlesize'],\n",
      "        'fontweight': rcParams['axes.titleweight'],\n",
      "        'color': rcParams['axes.titlecolor'],\n",
      "        'verticalalignment': 'baseline',\n",
      "        'horizontalalignment': loc}\n",
      "\n",
      "loc : {'center', 'left', 'right'}, default: :rc:`axes.titlelocation`\n",
      "    Which title to set.\n",
      "\n",
      "y : float, default: :rc:`axes.titley`\n",
      "    Vertical Axes loation for the title (1.0 is the top).  If\n",
      "    None (the default), y is determined automatically to avoid\n",
      "    decorators on the Axes.\n",
      "\n",
      "pad : float, default: :rc:`axes.titlepad`\n",
      "    The offset of the title from the top of the Axes, in points.\n",
      "\n",
      "Returns\n",
      "-------\n",
      "`.Text`\n",
      "    The matplotlib text instance representing the title\n",
      "\n",
      "Other Parameters\n",
      "----------------\n",
      "**kwargs : `.Text` properties\n",
      "    Other keyword arguments are text properties, see `.Text` for a list\n",
      "    of valid text properties.\n",
      "\u001b[1;31mFile:\u001b[0m      e:\\apps\\study_tool\\anaconda\\setup\\envs\\tf2.6\\lib\\site-packages\\matplotlib\\pyplot.py\n",
      "\u001b[1;31mType:\u001b[0m      function\n"
     ]
    }
   ],
   "source": [
    "?plt.title"
   ]
  }
 ],
 "metadata": {
  "interpreter": {
   "hash": "736ada0f5a8bbd862ad95361b6b99327a07653daeeb7b01d86d915892573eed3"
  },
  "kernelspec": {
   "display_name": "Python 3.9.7 64-bit ('TF2.6': conda)",
   "language": "python",
   "name": "python3"
  },
  "language_info": {
   "codemirror_mode": {
    "name": "ipython",
    "version": 3
   },
   "file_extension": ".py",
   "mimetype": "text/x-python",
   "name": "python",
   "nbconvert_exporter": "python",
   "pygments_lexer": "ipython3",
   "version": "3.9.7"
  },
  "orig_nbformat": 4
 },
 "nbformat": 4,
 "nbformat_minor": 2
}
