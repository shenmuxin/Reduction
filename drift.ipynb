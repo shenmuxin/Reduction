{
 "cells": [
  {
   "cell_type": "code",
   "execution_count": 2,
   "metadata": {},
   "outputs": [],
   "source": [
    "import matplotlib.pyplot as plt\n",
    "import tensorflow.keras.metrics as metrics"
   ]
  },
  {
   "cell_type": "code",
   "execution_count": 7,
   "metadata": {},
   "outputs": [
    {
     "name": "stdout",
     "output_type": "stream",
     "text": [
      "0.2\n"
     ]
    }
   ],
   "source": [
    "acc = metrics.Accuracy()\n",
    "label = [1, 2, 3, 4, 5]\n",
    "pre = [1, 3, 4, 0, 0]\n",
    "acc.update_state(label, pre)\n",
    "print(acc.result().numpy())"
   ]
  }
 ],
 "metadata": {
  "interpreter": {
   "hash": "736ada0f5a8bbd862ad95361b6b99327a07653daeeb7b01d86d915892573eed3"
  },
  "kernelspec": {
   "display_name": "Python 3.9.7 64-bit ('TF2.6': conda)",
   "language": "python",
   "name": "python3"
  },
  "language_info": {
   "codemirror_mode": {
    "name": "ipython",
    "version": 3
   },
   "file_extension": ".py",
   "mimetype": "text/x-python",
   "name": "python",
   "nbconvert_exporter": "python",
   "pygments_lexer": "ipython3",
   "version": "3.9.7"
  },
  "orig_nbformat": 4
 },
 "nbformat": 4,
 "nbformat_minor": 2
}
